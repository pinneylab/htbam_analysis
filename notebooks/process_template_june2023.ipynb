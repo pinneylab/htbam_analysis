{
 "cells": [
  {
   "cell_type": "markdown",
   "metadata": {},
   "source": [
    "# 20230410 ADK Ortholog Michaelis-Menten\n",
    "Duncan"
   ]
  },
  {
   "cell_type": "code",
   "execution_count": 5,
   "metadata": {},
   "outputs": [
    {
     "name": "stdout",
     "output_type": "stream",
     "text": [
      "The autoreload extension is already loaded. To reload it, use:\n",
      "  %reload_ext autoreload\n"
     ]
    }
   ],
   "source": [
    "%load_ext autoreload\n",
    "%autoreload 2\n",
    "\n",
    "import os\n",
    "from copy import deepcopy\n",
    "\n",
    "import skimage\n",
    "import numpy as np\n",
    "import pandas as pd\n",
    "import seaborn as sns\n",
    "\n",
    "from htbam.image.processing import chip\n",
    "from htbam.image.processing import experiment as exp\n",
    "from htbam.image.processing import chipcollections as collections\n",
    "\n",
    "import matplotlib.pyplot as pl\n",
    "%matplotlib inline\n",
    "%config InlineBackend.figure_format = 'svg'"
   ]
  },
  {
   "cell_type": "markdown",
   "metadata": {},
   "source": [
    "## 1. Establish experiment and pinlist"
   ]
  },
  {
   "cell_type": "code",
   "execution_count": 2,
   "metadata": {},
   "outputs": [
    {
     "name": "stderr",
     "output_type": "stream",
     "text": [
      "INFO     Experiment Initialized | Description: ADK_orth, Operator: DFM\n"
     ]
    }
   ],
   "source": [
    "root = '/Volumes/DuncanSSD/20230331/'\n",
    "description = 'ADK_orth'\n",
    "operator = 'DFM'\n",
    "\n",
    "e = exp.Experiment(description, root, operator)"
   ]
  },
  {
   "cell_type": "code",
   "execution_count": 4,
   "metadata": {},
   "outputs": [],
   "source": [
    "#block 1 is the left side of the image, but right side of the device\n",
    "block_descriptions = {1: 'Mac1_WT', 2: 'Mac1_WT', 3: 'Mac1_Mut', 4: 'Mac1_Mut'}\n",
    "def get_block(c):\n",
    "    return ((c // 8) + 1)\n",
    "#creating a pin list\n",
    "pinlist_dict = []\n",
    "for c in range(32):\n",
    "    for r in range(56):\n",
    "        block = get_block(c)\n",
    "        mutant = block_descriptions[block]\n",
    "        pinlist_dict.append({'Indices': (c + 1, r + 1), 'MutantID': mutant})\n",
    "pinlist_df = pd.DataFrame(pinlist_dict)\n",
    "# pinlist_path = '{}/data_analysis/20230208_pinlist.csv'.format(root)\n",
    "# pinlist_df.to_csv(pinlist_path, index=False)"
   ]
  },
  {
   "cell_type": "code",
   "execution_count": 7,
   "metadata": {},
   "outputs": [],
   "source": []
  },
  {
   "cell_type": "code",
   "execution_count": 3,
   "metadata": {},
   "outputs": [
    {
     "data": {
      "text/html": [
       "<div>\n",
       "<style scoped>\n",
       "    .dataframe tbody tr th:only-of-type {\n",
       "        vertical-align: middle;\n",
       "    }\n",
       "\n",
       "    .dataframe tbody tr th {\n",
       "        vertical-align: top;\n",
       "    }\n",
       "\n",
       "    .dataframe thead th {\n",
       "        text-align: right;\n",
       "    }\n",
       "</style>\n",
       "<table border=\"1\" class=\"dataframe\">\n",
       "  <thead>\n",
       "    <tr style=\"text-align: right;\">\n",
       "      <th></th>\n",
       "      <th></th>\n",
       "      <th>Indices</th>\n",
       "      <th>MutantID</th>\n",
       "    </tr>\n",
       "    <tr>\n",
       "      <th>x</th>\n",
       "      <th>y</th>\n",
       "      <th></th>\n",
       "      <th></th>\n",
       "    </tr>\n",
       "  </thead>\n",
       "  <tbody>\n",
       "    <tr>\n",
       "      <th rowspan=\"5\" valign=\"top\">1</th>\n",
       "      <th>1</th>\n",
       "      <td>(1, 1)</td>\n",
       "      <td>D_hafn_ADK</td>\n",
       "    </tr>\n",
       "    <tr>\n",
       "      <th>2</th>\n",
       "      <td>(1, 2)</td>\n",
       "      <td>T_mari_ADK</td>\n",
       "    </tr>\n",
       "    <tr>\n",
       "      <th>3</th>\n",
       "      <td>(1, 3)</td>\n",
       "      <td>P_ingr_ADK</td>\n",
       "    </tr>\n",
       "    <tr>\n",
       "      <th>4</th>\n",
       "      <td>(1, 4)</td>\n",
       "      <td>H_sali_ADK</td>\n",
       "    </tr>\n",
       "    <tr>\n",
       "      <th>5</th>\n",
       "      <td>(1, 5)</td>\n",
       "      <td>G_kaus_ADK</td>\n",
       "    </tr>\n",
       "  </tbody>\n",
       "</table>\n",
       "</div>"
      ],
      "text/plain": [
       "    Indices    MutantID\n",
       "x y                    \n",
       "1 1  (1, 1)  D_hafn_ADK\n",
       "  2  (1, 2)  T_mari_ADK\n",
       "  3  (1, 3)  P_ingr_ADK\n",
       "  4  (1, 4)  H_sali_ADK\n",
       "  5  (1, 5)  G_kaus_ADK"
      ]
     },
     "execution_count": 3,
     "metadata": {},
     "output_type": "execute_result"
    }
   ],
   "source": [
    "pinlist = e.read_pinlist(\"/Users/duncanmuir/code/pinney-lab/lab-notebook-muir/data/adk_on-chip/20230410_adk_pinlist.csv\")\n",
    "pinlist.head(5)"
   ]
  },
  {
   "cell_type": "markdown",
   "metadata": {},
   "source": [
    "## 2. Add devices and corners"
   ]
  },
  {
   "cell_type": "code",
   "execution_count": 4,
   "metadata": {},
   "outputs": [],
   "source": [
    "# Top left, top right, bottom left, bottom right\n",
    "#d1_corners = ((529, 433),(6808,425),(558,6867),(6865,6842)) #Each physical chip is a device, these are the center of the reaction chambers. \n",
    "d3_corners = ((437, 406),(6702,406),(434,6750),(6682,6764)) \n",
    "#d3_corners = ((553, 442),(3833,461),(577,6891),(6868,6849)) \n",
    "#Do this in imageJ, put your cursor over the reaction chambers and copy over\n",
    "d3 = exp.Device('s1', 'd3', (32, 56), pinlist, d3_corners)\n",
    "#d2 = exp.Device('s4', 'd2', (32, 56), pinlist, d2_corners)\n",
    "#d3 = exp.Device('s4', 'd3', (32, 56), pinlist, d3_corners)"
   ]
  },
  {
   "cell_type": "markdown",
   "metadata": {},
   "source": [
    "### Non-standard chamber-finding parameters"
   ]
  },
  {
   "cell_type": "code",
   "execution_count": 5,
   "metadata": {},
   "outputs": [
    {
     "name": "stdout",
     "output_type": "stream",
     "text": [
      "Old Chamber Radius: 16 pixels\n",
      "New Chamber Radius: 32 pixels\n"
     ]
    }
   ],
   "source": [
    "#chip.Stamp.circlePara1Index = 30\n",
    "#chip.Stamp.circlePara2Index = 15\n",
    "\n",
    "print('Old Chamber Radius: {} pixels'.format(chip.Stamp.chamberrad))\n",
    "chip.Stamp.chamberrad = 32#33 in 2x2\n",
    "print('New Chamber Radius: {} pixels'.format(chip.Stamp.chamberrad))"
   ]
  },
  {
   "cell_type": "markdown",
   "metadata": {},
   "source": [
    "## 3. Execute button analyses"
   ]
  },
  {
   "cell_type": "markdown",
   "metadata": {},
   "source": [
    "#### Quantify egfp fluorescence on buttons"
   ]
  },
  {
   "cell_type": "markdown",
   "metadata": {},
   "source": [
    "##### Load"
   ]
  },
  {
   "cell_type": "code",
   "execution_count": 6,
   "metadata": {},
   "outputs": [],
   "source": [
    "# Stitched image path\n",
    "p3 = '/Volumes/DuncanSSD/20230331/button_quant/20230401-095714-d2_egfp-quant_pre-MM_egfp_500_Sola_2x2_Kinetix-DynamicRange_4x/egfp/StitchedImages/BGSubtracted_StitchedImg_500_egfp_0.tif'\n",
    "#p2 = '/Volumes/T7/20221103/button_quant/20221103-182701-d2_mat2a_wash_egfp_500_Sola_4x4_Kinetix-DynamicRange_4x/egfp/StitchedImages/BGSubtracted_StitchedImg_500_egfp_0.tif'\n",
    "#p3 = '/Volumes/Samsung_T5/211210/20211212-182846-d3_tmTrpB_egfp_500_W2/egfp/StitchedImages/BGSubtracted_StitchedImg_500_egfp_0.tif'\n",
    "\n",
    "# Prepare ChipQuant object\n",
    "d3_GFPQuant = collections.ChipQuant(d3, 'ButtonReference')\n",
    "#d2_GFPQuant = collections.ChipQuant(d2, 'ButtonReference')\n",
    "#d3_GFPQuant = collections.ChipQuant(d3, 'ButtonReference')\n",
    "\n",
    "# Load image into memory\n",
    "d3_GFPQuant.load_file(p3, 'egfp', 500)\n",
    "#d2_GFPQuant.load_file(p2, 'egfp', 500)\n",
    "#d3_GFPQuant.load_file(p3, 'egfp', 500)\n",
    "\n"
   ]
  },
  {
   "cell_type": "markdown",
   "metadata": {},
   "source": [
    "##### Process"
   ]
  },
  {
   "cell_type": "code",
   "execution_count": 13,
   "metadata": {
    "scrolled": true
   },
   "outputs": [
    {
     "name": "stderr",
     "output_type": "stream",
     "text": [
      "Finding Buttons: 100%|██████████| 1792/1792 [03:04<00:00,  9.70it/s]\n"
     ]
    }
   ],
   "source": [
    "# Find buttons, extract intensity attributes\n",
    "d3_GFPQuant.process()\n",
    "#d2_GFPQuant.process()\n",
    "#d3_GFPQuant.process()\n",
    "\n",
    "# Summarize attributes as a pandas dataframe\n",
    "quant_report1 = d3_GFPQuant.summarize()\n",
    "#quant_report2 = d2_GFPQuant.summarize()\n",
    "#quant_report3 = d3_GFPQuant.summarize()\n"
   ]
  },
  {
   "cell_type": "markdown",
   "metadata": {},
   "source": [
    "##### Save Summary/Image"
   ]
  },
  {
   "cell_type": "code",
   "execution_count": 14,
   "metadata": {},
   "outputs": [],
   "source": [
    "quant_report1.to_csv('/Users/duncanmuir/code/pinney-lab/lab-notebook-muir/data/adk_on-chip/adk_orthologs_egfp_summary.csv')\n",
    "#quant_report2.to_csv('{}/data_analysis/button_summary_d2.csv'.format(root))\n",
    "#quant_report3.to_csv('/Volumes/Samsung_T5/211210/button_summary_d3.csv')\n",
    "\n",
    "\n",
    "d3_GFPQuant.save_summary_image()\n",
    "#d2_GFPQuant.save_summary_image()\n",
    "#d3_GFPQuant.save_summary_image()"
   ]
  },
  {
   "cell_type": "markdown",
   "metadata": {},
   "source": [
    "## 4. Standards"
   ]
  },
  {
   "cell_type": "code",
   "execution_count": 40,
   "metadata": {},
   "outputs": [],
   "source": [
    "#define standard corners (if these are the same as your device above, you don't need to)\n",
    "# Top left, top right, bottom left, bottom right\n",
    "d2_std_corners = ((229, 237),(3355,248),(218,3425),(3343,3433))  #Each physical chip is a device, these are the center of the reaction chambers. \n",
    "#Do this in imageJ, put your cursor over the reaction chambers and copy over\n",
    "d2_std = exp.Device('s1', 'd2', (32, 56), pinlist, d2_std_corners)"
   ]
  },
  {
   "cell_type": "code",
   "execution_count": 41,
   "metadata": {},
   "outputs": [],
   "source": [
    "# Create a standard series, load stitched images\n",
    "p_d2 = '/Volumes/T7/20221208_Mat2a_analysis.v2/20221202_tracy/standard_curve/Analysis_resized/dapi/StitchedImages'\n",
    "d2_PBP = collections.StandardSeries(d2_std, 'PBP')\n",
    "d2_PBP.load_files(p_d2, 'PBP', 100)"
   ]
  },
  {
   "cell_type": "code",
   "execution_count": 43,
   "metadata": {},
   "outputs": [],
   "source": [
    "d2_PBP.save_summary()\n",
    "d2_PBP.save_summary_images()"
   ]
  },
  {
   "cell_type": "markdown",
   "metadata": {},
   "source": [
    "## 5. Chamber Reference"
   ]
  },
  {
   "cell_type": "code",
   "execution_count": 7,
   "metadata": {},
   "outputs": [],
   "source": [
    "#code is having a hard time finding chambers in the standard curve (perhaps because it was resized?), so using this image as a reference\n",
    "\n",
    "d3_ChamberRef = collections.ChipQuant(d3, 'Chamber_Ref')\n",
    "chamber_ref = '/Volumes/DuncanSSD/20230331/standard/20230401-214659-d2_nadph_tracer_2_b-up_s-down_fura_1000_Retra-Cyan_2x2_Kinetix-DynamicRange_4x_Super_UV/fura/StitchedImages/BGSubtracted_StitchedImg_1000_fura_0.tif'\n",
    "d3_ChamberRef.load_file(chamber_ref, 'fura', 1000)\n",
    "\n"
   ]
  },
  {
   "cell_type": "code",
   "execution_count": 8,
   "metadata": {
    "scrolled": true
   },
   "outputs": [],
   "source": [
    "d3_ChamberRef.process(mapped_features = 'chamber', coerce_center = True)\n"
   ]
  },
  {
   "cell_type": "code",
   "execution_count": 26,
   "metadata": {},
   "outputs": [],
   "source": [
    "d3_ChamberRef.save_summary_image(feature_type = 'chamber')\n"
   ]
  },
  {
   "cell_type": "markdown",
   "metadata": {},
   "source": [
    "### 6. Kinetics"
   ]
  },
  {
   "cell_type": "code",
   "execution_count": 9,
   "metadata": {},
   "outputs": [],
   "source": [
    "# Assay Series Descriptions & Object\n",
    "from pathlib import Path \n",
    "parent = Path('/Volumes/DuncanSSD/20230331/kinetics/')\n",
    "\n",
    "kinetic_descriptions = ['7_8125uM-ADP',\n",
    "                        # '15_625uM-ADP',\n",
    "                        # '31_25uM-ADP',\n",
    "                        # '62_5uM-ADP',\n",
    "                        # '125uM-ADP',\n",
    "                        # '250uM-ADP',\n",
    "                        # '500uM-ADP',\n",
    "                        # '1000uM-ADP',\n",
    "                        # '2mM-ADP',\n",
    "                        # '4mM-ADP',\n",
    "                        # '8mM-ADP',\n",
    "                        # '16mM-ADP'\n",
    "                        ]\n"
   ]
  },
  {
   "cell_type": "code",
   "execution_count": 10,
   "metadata": {},
   "outputs": [],
   "source": [
    "# References (for positions)\n",
    "chamberRef = d3_ChamberRef.chip\n",
    "buttonRef = d3_GFPQuant.chip\n"
   ]
  },
  {
   "cell_type": "code",
   "execution_count": 11,
   "metadata": {},
   "outputs": [],
   "source": [
    "gfp_descriptions = ['egfp-quant_pre-MM']\n",
    "kinetic_file_handles = kinetic_descriptions\n",
    "gfp_file_handles = gfp_descriptions\n",
    "\n",
    "adk_orth = collections.AssaySeries(d3, \n",
    "                                              kinetic_descriptions, \n",
    "                                              chamberRef, \n",
    "                                              buttonRef)"
   ]
  },
  {
   "cell_type": "code",
   "execution_count": 12,
   "metadata": {},
   "outputs": [],
   "source": [
    "kin_root = '/Volumes/DuncanSSD/20230331/kinetics/'\n",
    "\n",
    "adk_orth.parse_kineticsFolders(kin_root, kinetic_file_handles, kinetic_descriptions, 'fura', 1000)\n",
    "\n"
   ]
  },
  {
   "cell_type": "code",
   "execution_count": 13,
   "metadata": {},
   "outputs": [],
   "source": [
    "button_root = '/Volumes/DuncanSSD/20230331/button_quant/'\n",
    "\n",
    "adk_orth.parse_quantificationFolders(button_root, gfp_descriptions, gfp_file_handles, 'egfp', 500)\n",
    "\n"
   ]
  },
  {
   "cell_type": "code",
   "execution_count": 14,
   "metadata": {},
   "outputs": [
    {
     "name": "stderr",
     "output_type": "stream",
     "text": [
      "Series <7_8125uM-ADP> Stamped and Mapped: 100%|██████████| 20/20 [00:39<00:00,  1.96s/it]\n"
     ]
    }
   ],
   "source": [
    "adk_orth.process_kinetics(low_mem = False)"
   ]
  },
  {
   "cell_type": "code",
   "execution_count": 35,
   "metadata": {},
   "outputs": [
    {
     "name": "stderr",
     "output_type": "stream",
     "text": [
      "Mapping and Processing Buttons: 100%|██████████| 12/12 [00:50<00:00,  4.20s/it]\n"
     ]
    }
   ],
   "source": [
    "adk_orth.process_quants()"
   ]
  },
  {
   "cell_type": "code",
   "execution_count": 36,
   "metadata": {},
   "outputs": [],
   "source": [
    "adk_orth.save_summary(outPath = kin_root)"
   ]
  },
  {
   "cell_type": "code",
   "execution_count": null,
   "metadata": {},
   "outputs": [],
   "source": []
  }
 ],
 "metadata": {
  "kernelspec": {
   "display_name": "Python 3.9.12 ('htbam')",
   "language": "python",
   "name": "python3"
  },
  "language_info": {
   "codemirror_mode": {
    "name": "ipython",
    "version": 3
   },
   "file_extension": ".py",
   "mimetype": "text/x-python",
   "name": "python",
   "nbconvert_exporter": "python",
   "pygments_lexer": "ipython3",
   "version": "3.9.12"
  },
  "vscode": {
   "interpreter": {
    "hash": "c9d5eb981a451804117bbb533ea06cb0ae54737992d6851237fb03142364cb8b"
   }
  }
 },
 "nbformat": 4,
 "nbformat_minor": 4
}
