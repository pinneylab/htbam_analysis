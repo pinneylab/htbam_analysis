{
 "cells": [
  {
   "cell_type": "code",
   "execution_count": 1,
   "id": "1491642e",
   "metadata": {},
   "outputs": [],
   "source": [
    "import pandas as pd\n",
    "import os \n",
    "import shutil \n",
    "import numpy as np\n",
    "import re\n",
    "\n",
    "from htbam_analysis.processing import chip\n",
    "from htbam_analysis.processing import experiment as exp\n",
    "from htbam_analysis.processing import chipcollections as collections\n",
    "from pathlib import Path \n",
    "\n",
    "from matplotlib import pyplot as plt"
   ]
  },
  {
   "cell_type": "markdown",
   "id": "2e4857fc",
   "metadata": {},
   "source": [
    "# 20250507 Processing Testing Notebook\n",
    "\n",
    "Eventually want to migrate this to a script to run manually. All testing data is from Jacob's competitive binding experiment and can be found [here](https://ucsf.app.box.com/folder/319917416835?s=akbyjn6glvzxe574j7cnfp71afa7gh26)."
   ]
  },
  {
   "cell_type": "code",
   "execution_count": 2,
   "id": "569128a7",
   "metadata": {},
   "outputs": [
    {
     "name": "stderr",
     "output_type": "stream",
     "text": [
      "INFO     Experiment Initialized | Description: Cycling, Operator: JSZ\n"
     ]
    }
   ],
   "source": [
    "root = '/Users/jonathanzhang/Downloads/binding_mpro_adpr-competitive'\n",
    "description = 'Cycling'\n",
    "operator = 'JSZ'\n",
    "setup_num = 's1'\n",
    "device_num = 'd3'\n",
    "device_dimensions = (32, 56)\n",
    "e = exp.Experiment(description, root, operator)\n",
    "\n",
    "pinlist = e.read_pinlist('/Users/jonathanzhang/Downloads/binding_mpro_adpr-competitive/20230208_pinlist.csv')"
   ]
  },
  {
   "cell_type": "markdown",
   "id": "de381d7d",
   "metadata": {},
   "source": [
    "## Generation of reference devices\n",
    "\n",
    "I suspect that some of the slight discrepancies between the processing output here and the test data can be attributed to differences in corner picking and processing. From the look of it, no reference images were generated for the binding (i.e. button finding applied to all images)."
   ]
  },
  {
   "cell_type": "code",
   "execution_count": 3,
   "id": "8803d76f",
   "metadata": {},
   "outputs": [],
   "source": [
    "# utility function for making a reference chip\n",
    "\n",
    "def make_reference_chip(\n",
    "        reference_image: str, \n",
    "        channel: str,\n",
    "        exposure: int,\n",
    "        corners: tuple, \n",
    "        feature: str,\n",
    "        coerce_center: bool,\n",
    "        pinlist,\n",
    "        setup_num, \n",
    "        device_num, \n",
    "        device_dimensions,\n",
    "        ):\n",
    "\n",
    "    device = exp.Device(setup_num, device_num, device_dimensions, pinlist, corners)\n",
    "    reference = collections.ChipQuant(device, 'Chamber_Ref')\n",
    "    reference.load_file(reference_image, channel, exposure)\n",
    "\n",
    "    if feature == 'chamber':\n",
    "        reference.process(mapped_features = 'chamber', coerce_center = coerce_center)\n",
    "        reference.save_summary_image(feature_type = 'chamber')\n",
    "    else:\n",
    "        reference.process(coerce_center = coerce_center)\n",
    "        reference.save_summary_image()\n",
    "\n",
    "    return device, reference"
   ]
  },
  {
   "cell_type": "code",
   "execution_count": 4,
   "id": "4a021687",
   "metadata": {},
   "outputs": [
    {
     "name": "stderr",
     "output_type": "stream",
     "text": [
      "Finding Buttons: 100%|██████████| 1792/1792 [02:20<00:00, 12.79it/s]\n"
     ]
    }
   ],
   "source": [
    "# one reference device for all conditions except for 333µM ADPR\n",
    "binding1_corners = ((447, 381), (6722, 466), (359, 6759), (6633, 6840))\n",
    "binding1_device, binding1_reference = make_reference_chip(\n",
    "    '/Users/jonathanzhang/Downloads/binding_mpro_adpr-competitive/Binding/batch1/20250206-223546-d3_0_ADPR_100AF_PostWash_Quant/2/StitchedImages/BGSubtracted_StitchedImg_5_2_0.tif',\n",
    "    '3',\n",
    "    '5',\n",
    "    binding1_corners,\n",
    "    'button',\n",
    "    False,\n",
    "    pinlist,\n",
    "    setup_num,\n",
    "    device_num,\n",
    "    device_dimensions    \n",
    ")"
   ]
  },
  {
   "cell_type": "code",
   "execution_count": 5,
   "id": "d5180296",
   "metadata": {},
   "outputs": [
    {
     "name": "stderr",
     "output_type": "stream",
     "text": [
      "Finding Buttons: 100%|██████████| 1792/1792 [02:48<00:00, 10.64it/s]\n"
     ]
    }
   ],
   "source": [
    "# separate reference image for condition with 333µM ADPR\n",
    "binding2_corners = ((410, 435), (6686, 527), (311, 6811), (6587, 6900))\n",
    "binding2_device, binding2_reference = make_reference_chip(\n",
    "    '/Users/jonathanzhang/Downloads/binding_mpro_adpr-competitive/Binding/batch2/20250207-021205-d3_333_ADPR_100AF_PostWash_Quant/3/StitchedImages/BGSubtracted_StitchedImg_5_3_0.tif',\n",
    "    '3',\n",
    "    '5',\n",
    "    binding2_corners,\n",
    "    'button',\n",
    "    False,\n",
    "    pinlist,\n",
    "    setup_num,\n",
    "    device_num,\n",
    "    device_dimensions    \n",
    ")"
   ]
  },
  {
   "cell_type": "markdown",
   "id": "7d92f14e",
   "metadata": {},
   "source": [
    "## Binding processing\n",
    "\n",
    "Using a new ButtonBindingSeries object"
   ]
  },
  {
   "cell_type": "code",
   "execution_count": 6,
   "id": "5d3ccacd",
   "metadata": {},
   "outputs": [
    {
     "name": "stdout",
     "output_type": "stream",
     "text": [
      "PREWASH BAIT IMAGES:\n",
      "/Users/jonathanzhang/Downloads/binding_mpro_adpr-competitive/Binding/batch1/20250207-014708-d3_111_ADPR_100AF_PreWash_Quant/2/StitchedImages/BGSubtracted_StitchedImg_5_2_0.tif\n",
      "/Users/jonathanzhang/Downloads/binding_mpro_adpr-competitive/Binding/batch1/20250207-013406-d3_12_ADPR_100AF_PreWash_Quant/2/StitchedImages/BGSubtracted_StitchedImg_5_2_0.tif\n",
      "/Users/jonathanzhang/Downloads/binding_mpro_adpr-competitive/Binding/batch1/20250206-233109-d3_1000_ADPR_100AF_PreWash_Quant/2/StitchedImages/BGSubtracted_StitchedImg_5_2_0.tif\n",
      "/Users/jonathanzhang/Downloads/binding_mpro_adpr-competitive/Binding/batch1/20250207-012104-d3_1_3_ADPR_100AF_PreWash_Quant/2/StitchedImages/BGSubtracted_StitchedImg_5_2_0.tif\n",
      "/Users/jonathanzhang/Downloads/binding_mpro_adpr-competitive/Binding/batch1/20250207-011434-d3_0_4_ADPR_100AF_PreWash_Quant/2/StitchedImages/BGSubtracted_StitchedImg_5_2_0.tif\n",
      "/Users/jonathanzhang/Downloads/binding_mpro_adpr-competitive/Binding/batch1/20250207-014037-d3_37_ADPR_100AF_PreWash_Quant/2/StitchedImages/BGSubtracted_StitchedImg_5_2_0.tif\n",
      "/Users/jonathanzhang/Downloads/binding_mpro_adpr-competitive/Binding/batch1/20250207-012735-d3_4_ADPR_100AF_PreWash_Quant/2/StitchedImages/BGSubtracted_StitchedImg_5_2_0.tif\n",
      "/Users/jonathanzhang/Downloads/binding_mpro_adpr-competitive/Binding/batch1/20250207-010802-d3_0_1_ADPR_100AF_PreWash_Quant/2/StitchedImages/BGSubtracted_StitchedImg_5_2_0.tif\n",
      "/Users/jonathanzhang/Downloads/binding_mpro_adpr-competitive/Binding/batch1/20250206-223321-d3_0_ADPR_100AF_PreWash_Quant/2/StitchedImages/BGSubtracted_StitchedImg_5_2_0.tif\n",
      "\n",
      "POSTWASH BAIT IMAGES:\n",
      "/Users/jonathanzhang/Downloads/binding_mpro_adpr-competitive/Binding/batch1/20250207-014933-d3_111_ADPR_100AF_PostWash_Quant/2/StitchedImages/BGSubtracted_StitchedImg_5_2_0.tif\n",
      "/Users/jonathanzhang/Downloads/binding_mpro_adpr-competitive/Binding/batch1/20250207-013001-d3_4_ADPR_100AF_PostWash_Quant/2/StitchedImages/BGSubtracted_StitchedImg_5_2_0.tif\n",
      "/Users/jonathanzhang/Downloads/binding_mpro_adpr-competitive/Binding/batch1/20250207-011659-d3_0_4_ADPR_100AF_PostWash_Quant/2/StitchedImages/BGSubtracted_StitchedImg_5_2_0.tif\n",
      "/Users/jonathanzhang/Downloads/binding_mpro_adpr-competitive/Binding/batch1/20250206-233335-d3_1000_ADPR_100AF_PostWash_Quant/2/StitchedImages/BGSubtracted_StitchedImg_5_2_0.tif\n",
      "/Users/jonathanzhang/Downloads/binding_mpro_adpr-competitive/Binding/batch1/20250207-011028-d3_0_1_ADPR_100AF_PostWash_Quant/2/StitchedImages/BGSubtracted_StitchedImg_5_2_0.tif\n",
      "/Users/jonathanzhang/Downloads/binding_mpro_adpr-competitive/Binding/batch1/20250207-014302-d3_37_ADPR_100AF_PostWash_Quant/2/StitchedImages/BGSubtracted_StitchedImg_5_2_0.tif\n",
      "/Users/jonathanzhang/Downloads/binding_mpro_adpr-competitive/Binding/batch1/20250206-223546-d3_0_ADPR_100AF_PostWash_Quant/2/StitchedImages/BGSubtracted_StitchedImg_5_2_0.tif\n",
      "/Users/jonathanzhang/Downloads/binding_mpro_adpr-competitive/Binding/batch1/20250207-013631-d3_12_ADPR_100AF_PostWash_Quant/2/StitchedImages/BGSubtracted_StitchedImg_5_2_0.tif\n",
      "/Users/jonathanzhang/Downloads/binding_mpro_adpr-competitive/Binding/batch1/20250207-012330-d3_1_3_ADPR_100AF_PostWash_Quant/2/StitchedImages/BGSubtracted_StitchedImg_5_2_0.tif\n",
      "\n",
      "POSTWASH PREY IMAGES:\n",
      "/Users/jonathanzhang/Downloads/binding_mpro_adpr-competitive/Binding/batch1/20250207-012350-d3_1_3_ADPR_100AF_PostWash_Quant/3/StitchedImages/BGSubtracted_StitchedImg_5_3_0.tif\n",
      "/Users/jonathanzhang/Downloads/binding_mpro_adpr-competitive/Binding/batch1/20250207-011718-d3_0_4_ADPR_100AF_PostWash_Quant/3/StitchedImages/BGSubtracted_StitchedImg_5_3_0.tif\n",
      "/Users/jonathanzhang/Downloads/binding_mpro_adpr-competitive/Binding/batch1/20250207-013651-d3_12_ADPR_100AF_PostWash_Quant/3/StitchedImages/BGSubtracted_StitchedImg_5_3_0.tif\n",
      "/Users/jonathanzhang/Downloads/binding_mpro_adpr-competitive/Binding/batch1/20250207-014321-d3_37_ADPR_100AF_PostWash_Quant/3/StitchedImages/BGSubtracted_StitchedImg_5_3_0.tif\n",
      "/Users/jonathanzhang/Downloads/binding_mpro_adpr-competitive/Binding/batch1/20250206-233355-d3_1000_ADPR_100AF_PostWash_Quant/3/StitchedImages/BGSubtracted_StitchedImg_5_3_0.tif\n",
      "/Users/jonathanzhang/Downloads/binding_mpro_adpr-competitive/Binding/batch1/20250207-011048-d3_0_1_ADPR_100AF_PostWash_Quant/3/StitchedImages/BGSubtracted_StitchedImg_5_3_0.tif\n",
      "/Users/jonathanzhang/Downloads/binding_mpro_adpr-competitive/Binding/batch1/20250206-223605-d3_0_ADPR_100AF_PostWash_Quant/3/StitchedImages/BGSubtracted_StitchedImg_5_3_0.tif\n",
      "/Users/jonathanzhang/Downloads/binding_mpro_adpr-competitive/Binding/batch1/20250207-013020-d3_4_ADPR_100AF_PostWash_Quant/3/StitchedImages/BGSubtracted_StitchedImg_5_3_0.tif\n",
      "/Users/jonathanzhang/Downloads/binding_mpro_adpr-competitive/Binding/batch1/20250207-014953-d3_111_ADPR_100AF_PostWash_Quant/3/StitchedImages/BGSubtracted_StitchedImg_5_3_0.tif\n",
      "PREWASH BAIT IMAGES:\n",
      "/Users/jonathanzhang/Downloads/binding_mpro_adpr-competitive/Binding/batch2/20250207-020920-d3_333_ADPR_100AF_PreWash_Quant/2/StitchedImages/BGSubtracted_StitchedImg_5_2_0.tif\n",
      "\n",
      "POSTWASH BAIT IMAGES:\n",
      "/Users/jonathanzhang/Downloads/binding_mpro_adpr-competitive/Binding/batch2/20250207-021146-d3_333_ADPR_100AF_PostWash_Quant/2/StitchedImages/BGSubtracted_StitchedImg_5_2_0.tif\n",
      "\n",
      "POSTWASH PREY IMAGES:\n",
      "/Users/jonathanzhang/Downloads/binding_mpro_adpr-competitive/Binding/batch2/20250207-021205-d3_333_ADPR_100AF_PostWash_Quant/3/StitchedImages/BGSubtracted_StitchedImg_5_3_0.tif\n"
     ]
    }
   ],
   "source": [
    "binding_path = '/Users/jonathanzhang/Downloads/binding_mpro_adpr-competitive/Binding'\n",
    "bait_channel, bait_exposure = '2', 5\n",
    "prey_channel, prey_exposure = '3', 5\n",
    "\n",
    "\n",
    "binding_processor_batch1 = collections.ButtonBindingSeries(\n",
    "    device=binding1_device, \n",
    "    button_ref=binding1_reference, \n",
    "    prey_channel=prey_channel,\n",
    "    prey_exposure=prey_exposure,\n",
    "    bait_channel=bait_channel,\n",
    "    bait_exposure=bait_exposure\n",
    "    )\n",
    "binding_processor_batch2 = collections.ButtonBindingSeries(\n",
    "    device=binding1_device, \n",
    "    button_ref=binding2_reference, \n",
    "    prey_channel=prey_channel,\n",
    "    prey_exposure=prey_exposure,\n",
    "    bait_channel=bait_channel,\n",
    "    bait_exposure=bait_exposure\n",
    "    )\n",
    "\n",
    "\n",
    "binding_processor_batch1.grab_binding_images('/Users/jonathanzhang/Downloads/binding_mpro_adpr-competitive/Binding/batch1', verbose=True)\n",
    "binding_processor_batch2.grab_binding_images('/Users/jonathanzhang/Downloads/binding_mpro_adpr-competitive/Binding/batch2', verbose=True)"
   ]
  },
  {
   "cell_type": "code",
   "execution_count": 7,
   "id": "394070e5",
   "metadata": {},
   "outputs": [],
   "source": [
    "def concentration_from_note_batch1(file):\n",
    "\n",
    "    parent_path = '/Users/jonathanzhang/Downloads/binding_mpro_adpr-competitive/Binding/batch1'\n",
    "\n",
    "    # use regex to pull out note\n",
    "    handle = os.path.relpath(file, parent_path).split('/')[0]\n",
    "    note_match = re.search(r\"\\d{8}-\\d{6}-d\\d+_(.+?)_(PreWash|PostWash)_Quant\", handle)\n",
    "    if note_match:\n",
    "        note = note_match.group(1)\n",
    "    else:\n",
    "        pass\n",
    "\n",
    "    concentration = float(note.split('_ADPR_100AF')[0].replace('_', '.'))\n",
    "    return concentration\n",
    "\n",
    "def concentration_from_note_batch2(file):\n",
    "\n",
    "    parent_path = '/Users/jonathanzhang/Downloads/binding_mpro_adpr-competitive/Binding/batch2'\n",
    "\n",
    "    # use regex to pull out note\n",
    "    handle = os.path.relpath(file, parent_path).split('/')[0]\n",
    "    note_match = re.search(r\"\\d{8}-\\d{6}-d\\d+_(.+?)_(PreWash|PostWash)_Quant\", handle)\n",
    "    if note_match:\n",
    "        note = note_match.group(1)\n",
    "    else:\n",
    "        pass\n",
    "\n",
    "    concentration = float(note.split('_ADPR_100AF')[0].replace('_', '.'))\n",
    "    return concentration\n"
   ]
  },
  {
   "cell_type": "code",
   "execution_count": 8,
   "id": "10a3be17",
   "metadata": {},
   "outputs": [
    {
     "name": "stdout",
     "output_type": "stream",
     "text": [
      "Processing Pre-Wash Bait Images...\n"
     ]
    },
    {
     "name": "stderr",
     "output_type": "stream",
     "text": [
      "100%|██████████| 9/9 [00:43<00:00,  4.82s/it]\n"
     ]
    },
    {
     "name": "stdout",
     "output_type": "stream",
     "text": [
      "Processing Post-Wash Bait Images...\n"
     ]
    },
    {
     "name": "stderr",
     "output_type": "stream",
     "text": [
      "100%|██████████| 9/9 [00:42<00:00,  4.74s/it]\n"
     ]
    },
    {
     "name": "stdout",
     "output_type": "stream",
     "text": [
      "Processing Post-Wash Prey Images...\n"
     ]
    },
    {
     "name": "stderr",
     "output_type": "stream",
     "text": [
      "100%|██████████| 9/9 [00:40<00:00,  4.52s/it]\n"
     ]
    }
   ],
   "source": [
    "binding_processor_batch1.process(concentration_parser=concentration_from_note_batch1)"
   ]
  },
  {
   "cell_type": "code",
   "execution_count": 9,
   "id": "89ebd024",
   "metadata": {},
   "outputs": [
    {
     "name": "stdout",
     "output_type": "stream",
     "text": [
      "Processing Pre-Wash Bait Images...\n"
     ]
    },
    {
     "name": "stderr",
     "output_type": "stream",
     "text": [
      "100%|██████████| 1/1 [00:04<00:00,  4.42s/it]\n"
     ]
    },
    {
     "name": "stdout",
     "output_type": "stream",
     "text": [
      "Processing Post-Wash Bait Images...\n"
     ]
    },
    {
     "name": "stderr",
     "output_type": "stream",
     "text": [
      "100%|██████████| 1/1 [00:04<00:00,  4.40s/it]\n"
     ]
    },
    {
     "name": "stdout",
     "output_type": "stream",
     "text": [
      "Processing Post-Wash Prey Images...\n"
     ]
    },
    {
     "name": "stderr",
     "output_type": "stream",
     "text": [
      "100%|██████████| 1/1 [00:04<00:00,  4.51s/it]\n"
     ]
    }
   ],
   "source": [
    "binding_processor_batch2.process(concentration_parser=concentration_from_note_batch2)"
   ]
  },
  {
   "cell_type": "markdown",
   "id": "bf9c0d40",
   "metadata": {},
   "source": [
    "## Comparison of new data against test\n",
    "\n",
    "Distributions of differences between button fluorescence between experiments is centered at zero. Some outliers. Not sure how significant this is, given that the raw data was likely processed differently. For instance, different corners may have been picked, and more importantly, it appears that the test data was generated without the usage of any reference images. "
   ]
  },
  {
   "cell_type": "code",
   "execution_count": 11,
   "id": "91073e4a",
   "metadata": {},
   "outputs": [
    {
     "data": {
      "image/png": "[encoded data removed]",
      "text/plain": [
       "<Figure size 1200x300 with 3 Axes>"
      ]
     },
     "metadata": {},
     "output_type": "display_data"
    }
   ],
   "source": [
    "image_type = ['postwash_prey', 'postwash_bait', 'prewash_bait']\n",
    "test_data = [\n",
    "    pd.read_csv('./test_data/competitive_binding_mpro_adpr/postwash_prey.csv.bz2'),\n",
    "    pd.read_csv('./test_data/competitive_binding_mpro_adpr/postwash_bait.csv.bz2'),\n",
    "    pd.read_csv('./test_data/competitive_binding_mpro_adpr/prewash_bait.csv.bz2')\n",
    "]\n",
    "for d in test_data:\n",
    "    d.sort_values(by=['x', 'y', 'time_s'], inplace=True)\n",
    "\n",
    "new_data = [\n",
    "    pd.concat([binding_processor_batch1.postwash_prey_data, binding_processor_batch2.postwash_prey_data]),\n",
    "    pd.concat([binding_processor_batch1.postwash_bait_data, binding_processor_batch2.postwash_bait_data]),\n",
    "    pd.concat([binding_processor_batch1.prewash_bait_data, binding_processor_batch2.prewash_bait_data])\n",
    "]\n",
    "\n",
    "fig, axs = plt.subplots(ncols=3, figsize=(12,3))\n",
    "differences = []\n",
    "for i in range(len(test_data)):\n",
    "    difference = test_data[i]['summed_button_BGsub'].to_numpy() - new_data[i]['summed_button_BGsub'].to_numpy()\n",
    "    differences.append(difference)\n",
    "    axs[i].hist(difference)\n",
    "    axs[i].set_title(image_type[i])\n",
    "    axs[i].set_xlabel('Δsummed_button_BGsub')"
   ]
  },
  {
   "cell_type": "code",
   "execution_count": null,
   "id": "2956dd5c",
   "metadata": {},
   "outputs": [],
   "source": []
  }
 ],
 "metadata": {
  "kernelspec": {
   "display_name": "htbam_analysis_0.5.0_TEST",
   "language": "python",
   "name": "python3"
  },
  "language_info": {
   "codemirror_mode": {
    "name": "ipython",
    "version": 3
   },
   "file_extension": ".py",
   "mimetype": "text/x-python",
   "name": "python",
   "nbconvert_exporter": "python",
   "pygments_lexer": "ipython3",
   "version": "3.9.18"
  }
 },
 "nbformat": 4,
 "nbformat_minor": 5
}
